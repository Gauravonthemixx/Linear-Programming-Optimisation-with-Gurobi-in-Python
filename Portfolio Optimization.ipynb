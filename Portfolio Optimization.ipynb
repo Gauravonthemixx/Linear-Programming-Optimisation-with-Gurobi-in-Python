{
  "nbformat": 4,
  "nbformat_minor": 0,
  "metadata": {
    "colab": {
      "provenance": []
    },
    "kernelspec": {
      "name": "python3",
      "display_name": "Python 3"
    },
    "language_info": {
      "name": "python"
    }
  },
  "cells": [
    {
      "cell_type": "code",
      "source": [
        "!python -m pip install -i https://pypi.gurobi.com gurobipy"
      ],
      "metadata": {
        "colab": {
          "base_uri": "https://localhost:8080/"
        },
        "id": "h3uAoxd6dJmb",
        "outputId": "59bc4226-33e5-4d96-b18c-4c3d4ff2ca8b"
      },
      "execution_count": 15,
      "outputs": [
        {
          "output_type": "stream",
          "name": "stdout",
          "text": [
            "Looking in indexes: https://pypi.gurobi.com, https://us-python.pkg.dev/colab-wheels/public/simple/\n",
            "Requirement already satisfied: gurobipy in /usr/local/lib/python3.9/dist-packages (10.0.1)\n"
          ]
        }
      ]
    },
    {
      "cell_type": "code",
      "source": [
        "from gurobipy import *"
      ],
      "metadata": {
        "id": "re0IsgDEdcqX"
      },
      "execution_count": 16,
      "outputs": []
    },
    {
      "cell_type": "code",
      "source": [
        "\n",
        "# Defining the model as Linear program\n",
        "opt_mod = Model(name=\"Linear program\")\n",
        "\n"
      ],
      "metadata": {
        "id": "-LmiJDtVdqy5"
      },
      "execution_count": 17,
      "outputs": []
    },
    {
      "cell_type": "code",
      "source": [
        "# Using addVar function to add the decision variable\n",
        "X1 = opt_mod.addVar(name='X1', vtype=GRB.CONTINUOUS, lb=0)\n",
        "X2 = opt_mod.addVar(name='X2', vtype=GRB.CONTINUOUS, lb=0)\n",
        "X3 = opt_mod.addVar(name='X3', vtype=GRB.CONTINUOUS, lb=-50, ub=50)"
      ],
      "metadata": {
        "id": "OV3aHncteBAr"
      },
      "execution_count": 18,
      "outputs": []
    },
    {
      "cell_type": "code",
      "source": [
        "# Defining the objective function that we have to maximize\n",
        "obj_fn = 10 * X1 + 4 * X2\n",
        "opt_mod.setObjective(obj_fn, GRB.MAXIMIZE)"
      ],
      "metadata": {
        "id": "NljIF1GIeFSK"
      },
      "execution_count": 19,
      "outputs": []
    },
    {
      "cell_type": "code",
      "source": [
        "# Adding Linear constraints\n",
        "c1 = opt_mod.addConstr(90 * X1 + 20 * X2 + 1000 * X3 <= 20000, name='c1')\n",
        "c2 = opt_mod.addConstr(X3 <= 50, name='c2')\n",
        "c3 = opt_mod.addConstr(X3 >= -50, name=\"c3\")"
      ],
      "metadata": {
        "id": "yN9Y48OCeH8b"
      },
      "execution_count": 20,
      "outputs": []
    },
    {
      "cell_type": "code",
      "source": [
        "# Solving the optimization model for the maximum returns using gurobipy solver in python\n",
        "opt_mod.optimize()\n",
        "opt_mod.write(\"linear_model.lp\")\n",
        "print('Objective Function Value: %f' % opt_mod.objVal)\n",
        "for v in opt_mod.getVars():\n",
        "    print('%s: %g' % (v.varName, v.x))"
      ],
      "metadata": {
        "colab": {
          "base_uri": "https://localhost:8080/"
        },
        "id": "fX9ozGXFeKVB",
        "outputId": "8902c950-b0b2-4ced-a1ca-22b68546c335"
      },
      "execution_count": 21,
      "outputs": [
        {
          "output_type": "stream",
          "name": "stdout",
          "text": [
            "Gurobi Optimizer version 10.0.1 build v10.0.1rc0 (linux64)\n",
            "\n",
            "CPU model: Intel(R) Xeon(R) CPU @ 2.20GHz, instruction set [SSE2|AVX|AVX2]\n",
            "Thread count: 1 physical cores, 2 logical processors, using up to 2 threads\n",
            "\n",
            "Optimize a model with 3 rows, 3 columns and 5 nonzeros\n",
            "Model fingerprint: 0x04f96e90\n",
            "Coefficient statistics:\n",
            "  Matrix range     [1e+00, 1e+03]\n",
            "  Objective range  [4e+00, 1e+01]\n",
            "  Bounds range     [5e+01, 5e+01]\n",
            "  RHS range        [5e+01, 2e+04]\n",
            "Presolve removed 3 rows and 3 columns\n",
            "Presolve time: 0.02s\n",
            "Presolve: All rows and columns removed\n",
            "Iteration    Objective       Primal Inf.    Dual Inf.      Time\n",
            "       0    1.4000000e+04   0.000000e+00   0.000000e+00      0s\n",
            "\n",
            "Solved in 0 iterations and 0.03 seconds (0.00 work units)\n",
            "Optimal objective  1.400000000e+04\n",
            "Objective Function Value: 14000.000000\n",
            "X1: 0\n",
            "X2: 3500\n",
            "X3: -50\n"
          ]
        }
      ]
    },
    {
      "cell_type": "code",
      "source": [
        "# Including decision variable of profits under different situation accoring to the prices of stocks after 6 months\n",
        "P1 = opt_mod.addVar(name='P1', vtype=GRB.CONTINUOUS, lb=0)\n",
        "P2 = opt_mod.addVar(name='P2', vtype=GRB.CONTINUOUS, lb=0)\n",
        "P3 = opt_mod.addVar(name='P3', vtype=GRB.CONTINUOUS, lb=0)\n"
      ],
      "metadata": {
        "id": "-C2e7NndeM9q"
      },
      "execution_count": 22,
      "outputs": []
    },
    {
      "cell_type": "code",
      "source": [
        "# Defining the objective function that we have to maximize\n",
        "Obj_fn = 0.33 * (P1 + P2 + P3)\n",
        "opt_mod.setObjective(obj_fn, GRB.MAXIMIZE)"
      ],
      "metadata": {
        "id": "quRH5bFieQxJ"
      },
      "execution_count": 23,
      "outputs": []
    },
    {
      "cell_type": "code",
      "source": [
        "# Adding the linear constraints\n",
        "c4 = opt_mod.addConstr(10 * X1 - 500 * X3 == P1, name='total profit constraint 1')\n",
        "c5 = opt_mod.addConstr(10 * X1 + 20 * X2 + 1500 * X3 == P2, name='total profit constraint 2')\n",
        "c6 = opt_mod.addConstr(10 * X1 - 8 * X2 - 1000 * X3 == P3, name='total profit constraint 3')\n",
        "c7 = opt_mod.addConstr(P1 >= 2000, name='minimum profit constraint 1')\n",
        "c8 = opt_mod.addConstr(P2 >= 2000, name='minimum profit constraint 2')\n",
        "c9 = opt_mod.addConstr(P3 >= 2000, name='minimum profit constraint 3')"
      ],
      "metadata": {
        "id": "1deWBg_2eQyL"
      },
      "execution_count": 24,
      "outputs": []
    },
    {
      "cell_type": "code",
      "source": [
        "# Solving the optimization model for the maximum returns using gurobipy solver in python\n",
        "opt_mod.optimize()\n",
        "opt_mod.write(\"linear_model.lp\")\n",
        "print('Objective Function Value: %f' % opt_mod.objVal)\n",
        "for v in opt_mod.getVars():\n",
        "    print('%s: %g' % (v.varName, v.x))\n",
        "\n"
      ],
      "metadata": {
        "colab": {
          "base_uri": "https://localhost:8080/"
        },
        "id": "oFZofJObeYKc",
        "outputId": "4614c2a3-d00a-4c53-b5db-eed86f8b4b7f"
      },
      "execution_count": 25,
      "outputs": [
        {
          "output_type": "stream",
          "name": "stdout",
          "text": [
            "Gurobi Optimizer version 10.0.1 build v10.0.1rc0 (linux64)\n",
            "\n",
            "CPU model: Intel(R) Xeon(R) CPU @ 2.20GHz, instruction set [SSE2|AVX|AVX2]\n",
            "Thread count: 1 physical cores, 2 logical processors, using up to 2 threads\n",
            "\n",
            "Optimize a model with 9 rows, 6 columns and 19 nonzeros\n",
            "Coefficient statistics:\n",
            "  Matrix range     [1e+00, 2e+03]\n",
            "  Objective range  [4e+00, 1e+01]\n",
            "  Bounds range     [5e+01, 5e+01]\n",
            "  RHS range        [5e+01, 2e+04]\n",
            "Iteration    Objective       Primal Inf.    Dual Inf.      Time\n",
            "       0    1.4000000e+04   8.328125e+03   0.000000e+00      0s\n",
            "       6    1.1200000e+04   0.000000e+00   0.000000e+00      0s\n",
            "\n",
            "Solved in 6 iterations and 0.02 seconds (0.00 work units)\n",
            "Optimal objective  1.120000000e+04\n",
            "Warning: constraint name \"total profit constraint 1\" has a space\n",
            "Objective Function Value: 11200.000000\n",
            "X1: 0\n",
            "X2: 2800\n",
            "X3: -36\n",
            "P1: 18000\n",
            "P2: 2000\n",
            "P3: 13600\n"
          ]
        }
      ]
    }
  ]
}